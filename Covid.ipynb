{
 "cells": [
  {
   "cell_type": "code",
   "execution_count": 1,
   "metadata": {},
   "outputs": [],
   "source": [
    "#Importing the libraries\n",
    "import pandas as pd \n",
    "import numpy as np\n",
    "from sklearn import datasets\n",
    "import matplotlib.pyplot as plt\n",
    "from sklearn.decomposition import PCA\n",
    "from sklearn.preprocessing import StandardScaler\n",
    "import seaborn as sns \n",
    "%matplotlib inline\n",
    "from sklearn.cluster import KMeans"
   ]
  },
  {
   "cell_type": "code",
   "execution_count": 2,
   "metadata": {},
   "outputs": [],
   "source": [
    "#Importing the file\n",
    "d = pd.read_csv(\"Desktop/CoronaDataUpdate.csv\", sep=\";\",encoding = \"ISO-8859-1\", engine=\"python\")"
   ]
  },
  {
   "cell_type": "code",
   "execution_count": 3,
   "metadata": {},
   "outputs": [
    {
     "data": {
      "text/html": [
       "<div>\n",
       "<style scoped>\n",
       "    .dataframe tbody tr th:only-of-type {\n",
       "        vertical-align: middle;\n",
       "    }\n",
       "\n",
       "    .dataframe tbody tr th {\n",
       "        vertical-align: top;\n",
       "    }\n",
       "\n",
       "    .dataframe thead th {\n",
       "        text-align: right;\n",
       "    }\n",
       "</style>\n",
       "<table border=\"1\" class=\"dataframe\">\n",
       "  <thead>\n",
       "    <tr style=\"text-align: right;\">\n",
       "      <th></th>\n",
       "      <th>ï»¿COUNTRY</th>\n",
       "      <th>STATE</th>\n",
       "      <th>TOTAL_CASES</th>\n",
       "      <th>TOTAL_DEATHS</th>\n",
       "      <th>TOTAL_RECOVERED</th>\n",
       "      <th>ACTIVE_CASES</th>\n",
       "      <th>SERIOUS_CRITICAL</th>\n",
       "      <th>NEW_CASES</th>\n",
       "      <th>NEW_DEATHS</th>\n",
       "      <th>DAILY_GROWTH_FACTOR</th>\n",
       "      <th>DAILY_GROWTH_FACTOR_RATIO</th>\n",
       "      <th>TOTAL_TESTS</th>\n",
       "      <th>TOTAL_CASES_PER_MILLION</th>\n",
       "      <th>DEATHS_PER_MILLION</th>\n",
       "      <th>TESTS_PER_MILLION</th>\n",
       "      <th>FIRST_CASE</th>\n",
       "    </tr>\n",
       "  </thead>\n",
       "  <tbody>\n",
       "    <tr>\n",
       "      <th>0</th>\n",
       "      <td>USA</td>\n",
       "      <td>NaN</td>\n",
       "      <td>309728</td>\n",
       "      <td>8441.0</td>\n",
       "      <td>14741.0</td>\n",
       "      <td>286546</td>\n",
       "      <td>8206.0</td>\n",
       "      <td>33907.0</td>\n",
       "      <td>NaN</td>\n",
       "      <td>1,029</td>\n",
       "      <td>NaN</td>\n",
       "      <td>1626287.0</td>\n",
       "      <td>NaN</td>\n",
       "      <td>NaN</td>\n",
       "      <td>NaN</td>\n",
       "      <td>NaN</td>\n",
       "    </tr>\n",
       "    <tr>\n",
       "      <th>1</th>\n",
       "      <td>Spain</td>\n",
       "      <td>NaN</td>\n",
       "      <td>126168</td>\n",
       "      <td>11947.0</td>\n",
       "      <td>34219.0</td>\n",
       "      <td>80002</td>\n",
       "      <td>6532.0</td>\n",
       "      <td>6969.0</td>\n",
       "      <td>NaN</td>\n",
       "      <td>0,976</td>\n",
       "      <td>NaN</td>\n",
       "      <td>355000.0</td>\n",
       "      <td>NaN</td>\n",
       "      <td>NaN</td>\n",
       "      <td>NaN</td>\n",
       "      <td>NaN</td>\n",
       "    </tr>\n",
       "    <tr>\n",
       "      <th>2</th>\n",
       "      <td>Italy</td>\n",
       "      <td>NaN</td>\n",
       "      <td>124632</td>\n",
       "      <td>15362.0</td>\n",
       "      <td>20996.0</td>\n",
       "      <td>88274</td>\n",
       "      <td>3994.0</td>\n",
       "      <td>4805.0</td>\n",
       "      <td>NaN</td>\n",
       "      <td>1,047</td>\n",
       "      <td>NaN</td>\n",
       "      <td>657224.0</td>\n",
       "      <td>NaN</td>\n",
       "      <td>NaN</td>\n",
       "      <td>NaN</td>\n",
       "      <td>NaN</td>\n",
       "    </tr>\n",
       "    <tr>\n",
       "      <th>3</th>\n",
       "      <td>Germany</td>\n",
       "      <td>NaN</td>\n",
       "      <td>96092</td>\n",
       "      <td>1444.0</td>\n",
       "      <td>26400.0</td>\n",
       "      <td>68248</td>\n",
       "      <td>3936.0</td>\n",
       "      <td>4933.0</td>\n",
       "      <td>NaN</td>\n",
       "      <td>0,775</td>\n",
       "      <td>NaN</td>\n",
       "      <td>918460.0</td>\n",
       "      <td>NaN</td>\n",
       "      <td>NaN</td>\n",
       "      <td>NaN</td>\n",
       "      <td>NaN</td>\n",
       "    </tr>\n",
       "    <tr>\n",
       "      <th>4</th>\n",
       "      <td>France</td>\n",
       "      <td>NaN</td>\n",
       "      <td>89953</td>\n",
       "      <td>7560.0</td>\n",
       "      <td>15438.0</td>\n",
       "      <td>66955</td>\n",
       "      <td>6838.0</td>\n",
       "      <td>25615.0</td>\n",
       "      <td>NaN</td>\n",
       "      <td>4,894</td>\n",
       "      <td>NaN</td>\n",
       "      <td>224254.0</td>\n",
       "      <td>NaN</td>\n",
       "      <td>NaN</td>\n",
       "      <td>NaN</td>\n",
       "      <td>NaN</td>\n",
       "    </tr>\n",
       "  </tbody>\n",
       "</table>\n",
       "</div>"
      ],
      "text/plain": [
       "  ï»¿COUNTRY  STATE  TOTAL_CASES  TOTAL_DEATHS  TOTAL_RECOVERED  ACTIVE_CASES  \\\n",
       "0        USA    NaN       309728        8441.0          14741.0        286546   \n",
       "1      Spain    NaN       126168       11947.0          34219.0         80002   \n",
       "2      Italy    NaN       124632       15362.0          20996.0         88274   \n",
       "3    Germany    NaN        96092        1444.0          26400.0         68248   \n",
       "4     France    NaN        89953        7560.0          15438.0         66955   \n",
       "\n",
       "   SERIOUS_CRITICAL  NEW_CASES  NEW_DEATHS DAILY_GROWTH_FACTOR  \\\n",
       "0            8206.0    33907.0         NaN               1,029   \n",
       "1            6532.0     6969.0         NaN               0,976   \n",
       "2            3994.0     4805.0         NaN               1,047   \n",
       "3            3936.0     4933.0         NaN               0,775   \n",
       "4            6838.0    25615.0         NaN               4,894   \n",
       "\n",
       "   DAILY_GROWTH_FACTOR_RATIO  TOTAL_TESTS  TOTAL_CASES_PER_MILLION  \\\n",
       "0                        NaN    1626287.0                      NaN   \n",
       "1                        NaN     355000.0                      NaN   \n",
       "2                        NaN     657224.0                      NaN   \n",
       "3                        NaN     918460.0                      NaN   \n",
       "4                        NaN     224254.0                      NaN   \n",
       "\n",
       "   DEATHS_PER_MILLION  TESTS_PER_MILLION  FIRST_CASE  \n",
       "0                 NaN                NaN         NaN  \n",
       "1                 NaN                NaN         NaN  \n",
       "2                 NaN                NaN         NaN  \n",
       "3                 NaN                NaN         NaN  \n",
       "4                 NaN                NaN         NaN  "
      ]
     },
     "execution_count": 3,
     "metadata": {},
     "output_type": "execute_result"
    }
   ],
   "source": [
    "#Getting the first 6 rows of data\n",
    "d.head()"
   ]
  },
  {
   "cell_type": "code",
   "execution_count": 4,
   "metadata": {},
   "outputs": [
    {
     "data": {
      "text/html": [
       "<div>\n",
       "<style scoped>\n",
       "    .dataframe tbody tr th:only-of-type {\n",
       "        vertical-align: middle;\n",
       "    }\n",
       "\n",
       "    .dataframe tbody tr th {\n",
       "        vertical-align: top;\n",
       "    }\n",
       "\n",
       "    .dataframe thead th {\n",
       "        text-align: right;\n",
       "    }\n",
       "</style>\n",
       "<table border=\"1\" class=\"dataframe\">\n",
       "  <thead>\n",
       "    <tr style=\"text-align: right;\">\n",
       "      <th></th>\n",
       "      <th>ï»¿COUNTRY</th>\n",
       "      <th>STATE</th>\n",
       "      <th>TOTAL_CASES</th>\n",
       "      <th>TOTAL_DEATHS</th>\n",
       "      <th>TOTAL_RECOVERED</th>\n",
       "      <th>ACTIVE_CASES</th>\n",
       "      <th>SERIOUS_CRITICAL</th>\n",
       "      <th>NEW_CASES</th>\n",
       "      <th>NEW_DEATHS</th>\n",
       "      <th>DAILY_GROWTH_FACTOR</th>\n",
       "      <th>DAILY_GROWTH_FACTOR_RATIO</th>\n",
       "      <th>TOTAL_TESTS</th>\n",
       "      <th>TOTAL_CASES_PER_MILLION</th>\n",
       "      <th>DEATHS_PER_MILLION</th>\n",
       "      <th>TESTS_PER_MILLION</th>\n",
       "      <th>FIRST_CASE</th>\n",
       "    </tr>\n",
       "  </thead>\n",
       "  <tbody>\n",
       "    <tr>\n",
       "      <th>202</th>\n",
       "      <td>Caribbean Netherlands</td>\n",
       "      <td>NaN</td>\n",
       "      <td>2</td>\n",
       "      <td>NaN</td>\n",
       "      <td>NaN</td>\n",
       "      <td>2</td>\n",
       "      <td>NaN</td>\n",
       "      <td>NaN</td>\n",
       "      <td>NaN</td>\n",
       "      <td>NaN</td>\n",
       "      <td>NaN</td>\n",
       "      <td>10.0</td>\n",
       "      <td>NaN</td>\n",
       "      <td>NaN</td>\n",
       "      <td>NaN</td>\n",
       "      <td>NaN</td>\n",
       "    </tr>\n",
       "    <tr>\n",
       "      <th>203</th>\n",
       "      <td>Falkland Islands</td>\n",
       "      <td>NaN</td>\n",
       "      <td>1</td>\n",
       "      <td>NaN</td>\n",
       "      <td>NaN</td>\n",
       "      <td>1</td>\n",
       "      <td>NaN</td>\n",
       "      <td>NaN</td>\n",
       "      <td>NaN</td>\n",
       "      <td>NaN</td>\n",
       "      <td>NaN</td>\n",
       "      <td>NaN</td>\n",
       "      <td>NaN</td>\n",
       "      <td>NaN</td>\n",
       "      <td>NaN</td>\n",
       "      <td>NaN</td>\n",
       "    </tr>\n",
       "    <tr>\n",
       "      <th>204</th>\n",
       "      <td>Papua New Guinea</td>\n",
       "      <td>NaN</td>\n",
       "      <td>1</td>\n",
       "      <td>NaN</td>\n",
       "      <td>NaN</td>\n",
       "      <td>1</td>\n",
       "      <td>NaN</td>\n",
       "      <td>NaN</td>\n",
       "      <td>NaN</td>\n",
       "      <td>NaN</td>\n",
       "      <td>NaN</td>\n",
       "      <td>72.0</td>\n",
       "      <td>NaN</td>\n",
       "      <td>NaN</td>\n",
       "      <td>NaN</td>\n",
       "      <td>NaN</td>\n",
       "    </tr>\n",
       "    <tr>\n",
       "      <th>205</th>\n",
       "      <td>Timor-Leste</td>\n",
       "      <td>NaN</td>\n",
       "      <td>1</td>\n",
       "      <td>NaN</td>\n",
       "      <td>NaN</td>\n",
       "      <td>1</td>\n",
       "      <td>NaN</td>\n",
       "      <td>NaN</td>\n",
       "      <td>NaN</td>\n",
       "      <td>NaN</td>\n",
       "      <td>NaN</td>\n",
       "      <td>NaN</td>\n",
       "      <td>NaN</td>\n",
       "      <td>NaN</td>\n",
       "      <td>NaN</td>\n",
       "      <td>NaN</td>\n",
       "    </tr>\n",
       "    <tr>\n",
       "      <th>206</th>\n",
       "      <td>China</td>\n",
       "      <td>NaN</td>\n",
       "      <td>81639</td>\n",
       "      <td>3326.0</td>\n",
       "      <td>76755.0</td>\n",
       "      <td>1558</td>\n",
       "      <td>331.0</td>\n",
       "      <td>19.0</td>\n",
       "      <td>NaN</td>\n",
       "      <td>0,612</td>\n",
       "      <td>NaN</td>\n",
       "      <td>NaN</td>\n",
       "      <td>NaN</td>\n",
       "      <td>NaN</td>\n",
       "      <td>NaN</td>\n",
       "      <td>NaN</td>\n",
       "    </tr>\n",
       "  </tbody>\n",
       "</table>\n",
       "</div>"
      ],
      "text/plain": [
       "                ï»¿COUNTRY  STATE  TOTAL_CASES  TOTAL_DEATHS  TOTAL_RECOVERED  \\\n",
       "202  Caribbean Netherlands    NaN            2           NaN              NaN   \n",
       "203       Falkland Islands    NaN            1           NaN              NaN   \n",
       "204       Papua New Guinea    NaN            1           NaN              NaN   \n",
       "205            Timor-Leste    NaN            1           NaN              NaN   \n",
       "206                  China    NaN        81639        3326.0          76755.0   \n",
       "\n",
       "     ACTIVE_CASES  SERIOUS_CRITICAL  NEW_CASES  NEW_DEATHS  \\\n",
       "202             2               NaN        NaN         NaN   \n",
       "203             1               NaN        NaN         NaN   \n",
       "204             1               NaN        NaN         NaN   \n",
       "205             1               NaN        NaN         NaN   \n",
       "206          1558             331.0       19.0         NaN   \n",
       "\n",
       "    DAILY_GROWTH_FACTOR  DAILY_GROWTH_FACTOR_RATIO  TOTAL_TESTS  \\\n",
       "202                 NaN                        NaN         10.0   \n",
       "203                 NaN                        NaN          NaN   \n",
       "204                 NaN                        NaN         72.0   \n",
       "205                 NaN                        NaN          NaN   \n",
       "206               0,612                        NaN          NaN   \n",
       "\n",
       "     TOTAL_CASES_PER_MILLION  DEATHS_PER_MILLION  TESTS_PER_MILLION  \\\n",
       "202                      NaN                 NaN                NaN   \n",
       "203                      NaN                 NaN                NaN   \n",
       "204                      NaN                 NaN                NaN   \n",
       "205                      NaN                 NaN                NaN   \n",
       "206                      NaN                 NaN                NaN   \n",
       "\n",
       "     FIRST_CASE  \n",
       "202         NaN  \n",
       "203         NaN  \n",
       "204         NaN  \n",
       "205         NaN  \n",
       "206         NaN  "
      ]
     },
     "execution_count": 4,
     "metadata": {},
     "output_type": "execute_result"
    }
   ],
   "source": [
    "#Getting the last 6 rows of data\n",
    "d.tail()"
   ]
  },
  {
   "cell_type": "code",
   "execution_count": 5,
   "metadata": {},
   "outputs": [
    {
     "data": {
      "text/plain": [
       "3312"
      ]
     },
     "execution_count": 5,
     "metadata": {},
     "output_type": "execute_result"
    }
   ],
   "source": [
    "#Getting the size of the dataset\n",
    "d.size"
   ]
  },
  {
   "cell_type": "code",
   "execution_count": 6,
   "metadata": {},
   "outputs": [
    {
     "data": {
      "text/plain": [
       "(207, 16)"
      ]
     },
     "execution_count": 6,
     "metadata": {},
     "output_type": "execute_result"
    }
   ],
   "source": [
    "d.shape"
   ]
  },
  {
   "cell_type": "code",
   "execution_count": 7,
   "metadata": {},
   "outputs": [
    {
     "data": {
      "text/plain": [
       "DATETIME;COUNTRY;STATE;TOTAL_CASES;TOTAL_DEATHS;TOTAL_RECOVERED;ACTIVE_CASES;SERIOUS_CRITICAL;NEW_CASES;NEW_DEATHS;DAILY_GROWTH_FACTOR;DAILY_GROWTH_FACTOR_RATIO;TOTAL_TESTS;TOTAL_CASES_PER_MILLION;DEATHS_PER_MILLION;TESTS_PER_MILLION;FIRST_CASE    81719\n",
       "dtype: int64"
      ]
     },
     "execution_count": 7,
     "metadata": {},
     "output_type": "execute_result"
    }
   ],
   "source": [
    "#Getting the number of missing values in each column\n",
    "CoronaData = pd.read_csv(\"Desktop/CoronaData.csv\",encoding = \"ISO-8859-1\")\n",
    "null_columns=CoronaData.columns[CoronaData.isnull().any()]\n",
    "CoronaData[null_columns].isnull().sum()"
   ]
  },
  {
   "cell_type": "code",
   "execution_count": 8,
   "metadata": {},
   "outputs": [
    {
     "data": {
      "text/plain": [
       "True"
      ]
     },
     "execution_count": 8,
     "metadata": {},
     "output_type": "execute_result"
    }
   ],
   "source": [
    "#Checking if there are any missing values\n",
    "d.isnull().values.any()"
   ]
  },
  {
   "cell_type": "code",
   "execution_count": 9,
   "metadata": {},
   "outputs": [
    {
     "data": {
      "text/html": [
       "<div>\n",
       "<style scoped>\n",
       "    .dataframe tbody tr th:only-of-type {\n",
       "        vertical-align: middle;\n",
       "    }\n",
       "\n",
       "    .dataframe tbody tr th {\n",
       "        vertical-align: top;\n",
       "    }\n",
       "\n",
       "    .dataframe thead th {\n",
       "        text-align: right;\n",
       "    }\n",
       "</style>\n",
       "<table border=\"1\" class=\"dataframe\">\n",
       "  <thead>\n",
       "    <tr style=\"text-align: right;\">\n",
       "      <th></th>\n",
       "      <th>ï»¿COUNTRY</th>\n",
       "      <th>STATE</th>\n",
       "      <th>TOTAL_CASES</th>\n",
       "      <th>TOTAL_DEATHS</th>\n",
       "      <th>TOTAL_RECOVERED</th>\n",
       "      <th>ACTIVE_CASES</th>\n",
       "      <th>SERIOUS_CRITICAL</th>\n",
       "      <th>NEW_CASES</th>\n",
       "      <th>NEW_DEATHS</th>\n",
       "      <th>DAILY_GROWTH_FACTOR</th>\n",
       "      <th>DAILY_GROWTH_FACTOR_RATIO</th>\n",
       "      <th>TOTAL_TESTS</th>\n",
       "      <th>TOTAL_CASES_PER_MILLION</th>\n",
       "      <th>DEATHS_PER_MILLION</th>\n",
       "      <th>TESTS_PER_MILLION</th>\n",
       "      <th>FIRST_CASE</th>\n",
       "    </tr>\n",
       "  </thead>\n",
       "  <tbody>\n",
       "    <tr>\n",
       "      <th>0</th>\n",
       "      <td>USA</td>\n",
       "      <td>NaN</td>\n",
       "      <td>309728</td>\n",
       "      <td>8441.0</td>\n",
       "      <td>14741.0</td>\n",
       "      <td>286546</td>\n",
       "      <td>8206.0</td>\n",
       "      <td>33907.0</td>\n",
       "      <td>NaN</td>\n",
       "      <td>1,029</td>\n",
       "      <td>NaN</td>\n",
       "      <td>1626287.0</td>\n",
       "      <td>NaN</td>\n",
       "      <td>NaN</td>\n",
       "      <td>NaN</td>\n",
       "      <td>NaN</td>\n",
       "    </tr>\n",
       "    <tr>\n",
       "      <th>1</th>\n",
       "      <td>Spain</td>\n",
       "      <td>NaN</td>\n",
       "      <td>126168</td>\n",
       "      <td>11947.0</td>\n",
       "      <td>34219.0</td>\n",
       "      <td>80002</td>\n",
       "      <td>6532.0</td>\n",
       "      <td>6969.0</td>\n",
       "      <td>NaN</td>\n",
       "      <td>0,976</td>\n",
       "      <td>NaN</td>\n",
       "      <td>355000.0</td>\n",
       "      <td>NaN</td>\n",
       "      <td>NaN</td>\n",
       "      <td>NaN</td>\n",
       "      <td>NaN</td>\n",
       "    </tr>\n",
       "    <tr>\n",
       "      <th>2</th>\n",
       "      <td>Italy</td>\n",
       "      <td>NaN</td>\n",
       "      <td>124632</td>\n",
       "      <td>15362.0</td>\n",
       "      <td>20996.0</td>\n",
       "      <td>88274</td>\n",
       "      <td>3994.0</td>\n",
       "      <td>4805.0</td>\n",
       "      <td>NaN</td>\n",
       "      <td>1,047</td>\n",
       "      <td>NaN</td>\n",
       "      <td>657224.0</td>\n",
       "      <td>NaN</td>\n",
       "      <td>NaN</td>\n",
       "      <td>NaN</td>\n",
       "      <td>NaN</td>\n",
       "    </tr>\n",
       "    <tr>\n",
       "      <th>3</th>\n",
       "      <td>Germany</td>\n",
       "      <td>NaN</td>\n",
       "      <td>96092</td>\n",
       "      <td>1444.0</td>\n",
       "      <td>26400.0</td>\n",
       "      <td>68248</td>\n",
       "      <td>3936.0</td>\n",
       "      <td>4933.0</td>\n",
       "      <td>NaN</td>\n",
       "      <td>0,775</td>\n",
       "      <td>NaN</td>\n",
       "      <td>918460.0</td>\n",
       "      <td>NaN</td>\n",
       "      <td>NaN</td>\n",
       "      <td>NaN</td>\n",
       "      <td>NaN</td>\n",
       "    </tr>\n",
       "    <tr>\n",
       "      <th>4</th>\n",
       "      <td>France</td>\n",
       "      <td>NaN</td>\n",
       "      <td>89953</td>\n",
       "      <td>7560.0</td>\n",
       "      <td>15438.0</td>\n",
       "      <td>66955</td>\n",
       "      <td>6838.0</td>\n",
       "      <td>25615.0</td>\n",
       "      <td>NaN</td>\n",
       "      <td>4,894</td>\n",
       "      <td>NaN</td>\n",
       "      <td>224254.0</td>\n",
       "      <td>NaN</td>\n",
       "      <td>NaN</td>\n",
       "      <td>NaN</td>\n",
       "      <td>NaN</td>\n",
       "    </tr>\n",
       "  </tbody>\n",
       "</table>\n",
       "</div>"
      ],
      "text/plain": [
       "  ï»¿COUNTRY  STATE  TOTAL_CASES  TOTAL_DEATHS  TOTAL_RECOVERED  ACTIVE_CASES  \\\n",
       "0        USA    NaN       309728        8441.0          14741.0        286546   \n",
       "1      Spain    NaN       126168       11947.0          34219.0         80002   \n",
       "2      Italy    NaN       124632       15362.0          20996.0         88274   \n",
       "3    Germany    NaN        96092        1444.0          26400.0         68248   \n",
       "4     France    NaN        89953        7560.0          15438.0         66955   \n",
       "\n",
       "   SERIOUS_CRITICAL  NEW_CASES  NEW_DEATHS DAILY_GROWTH_FACTOR  \\\n",
       "0            8206.0    33907.0         NaN               1,029   \n",
       "1            6532.0     6969.0         NaN               0,976   \n",
       "2            3994.0     4805.0         NaN               1,047   \n",
       "3            3936.0     4933.0         NaN               0,775   \n",
       "4            6838.0    25615.0         NaN               4,894   \n",
       "\n",
       "   DAILY_GROWTH_FACTOR_RATIO  TOTAL_TESTS  TOTAL_CASES_PER_MILLION  \\\n",
       "0                        NaN    1626287.0                      NaN   \n",
       "1                        NaN     355000.0                      NaN   \n",
       "2                        NaN     657224.0                      NaN   \n",
       "3                        NaN     918460.0                      NaN   \n",
       "4                        NaN     224254.0                      NaN   \n",
       "\n",
       "   DEATHS_PER_MILLION  TESTS_PER_MILLION  FIRST_CASE  \n",
       "0                 NaN                NaN         NaN  \n",
       "1                 NaN                NaN         NaN  \n",
       "2                 NaN                NaN         NaN  \n",
       "3                 NaN                NaN         NaN  \n",
       "4                 NaN                NaN         NaN  "
      ]
     },
     "execution_count": 9,
     "metadata": {},
     "output_type": "execute_result"
    }
   ],
   "source": [
    "#Filling missing values with the mean values\n",
    "d.fillna(d.mean(), inplace=True)\n",
    "d.head()"
   ]
  },
  {
   "cell_type": "code",
   "execution_count": 10,
   "metadata": {},
   "outputs": [],
   "source": [
    "d =d.drop(['STATE'], axis=1)"
   ]
  },
  {
   "cell_type": "code",
   "execution_count": 11,
   "metadata": {},
   "outputs": [
    {
     "name": "stdout",
     "output_type": "stream",
     "text": [
      "<class 'pandas.core.frame.DataFrame'>\n",
      "RangeIndex: 207 entries, 0 to 206\n",
      "Data columns (total 15 columns):\n",
      "ï»¿COUNTRY                   207 non-null object\n",
      "TOTAL_CASES                  207 non-null int64\n",
      "TOTAL_DEATHS                 207 non-null float64\n",
      "TOTAL_RECOVERED              207 non-null float64\n",
      "ACTIVE_CASES                 207 non-null int64\n",
      "SERIOUS_CRITICAL             207 non-null float64\n",
      "NEW_CASES                    207 non-null float64\n",
      "NEW_DEATHS                   0 non-null float64\n",
      "DAILY_GROWTH_FACTOR          58 non-null object\n",
      "DAILY_GROWTH_FACTOR_RATIO    0 non-null float64\n",
      "TOTAL_TESTS                  207 non-null float64\n",
      "TOTAL_CASES_PER_MILLION      0 non-null float64\n",
      "DEATHS_PER_MILLION           0 non-null float64\n",
      "TESTS_PER_MILLION            0 non-null float64\n",
      "FIRST_CASE                   0 non-null float64\n",
      "dtypes: float64(11), int64(2), object(2)\n",
      "memory usage: 24.3+ KB\n"
     ]
    }
   ],
   "source": [
    "d.info()"
   ]
  },
  {
   "cell_type": "code",
   "execution_count": 12,
   "metadata": {},
   "outputs": [
    {
     "data": {
      "text/plain": [
       "count       207.000000\n",
       "mean       5793.111111\n",
       "std       27161.570051\n",
       "min           1.000000\n",
       "25%          19.500000\n",
       "50%         201.000000\n",
       "75%        1238.000000\n",
       "max      309728.000000\n",
       "Name: TOTAL_CASES, dtype: float64"
      ]
     },
     "execution_count": 12,
     "metadata": {},
     "output_type": "execute_result"
    }
   ],
   "source": [
    "#Checking for basic statistic for the column TOTAL_CASES\n",
    "d[\"TOTAL_CASES\"].describe()\n",
    "\n",
    "#the output displays the basic statistics for only the column \"TOTAL_CASES\""
   ]
  },
  {
   "cell_type": "code",
   "execution_count": 13,
   "metadata": {},
   "outputs": [],
   "source": [
    "#Detecting outliers\n",
    "outliers=[]\n",
    "def detect_outlier(data_1):\n",
    "    \n",
    "    threshold=2\n",
    "    mean_1 = np.mean(data_1)\n",
    "    std_1 =np.std(data_1)\n",
    "    \n",
    "    \n",
    "    for y in data_1:\n",
    "        z_score= (y - mean_1)/std_1 \n",
    "        if np.abs(z_score) > threshold:\n",
    "            outliers.append(y)\n",
    "    return outliers"
   ]
  },
  {
   "cell_type": "code",
   "execution_count": 14,
   "metadata": {},
   "outputs": [
    {
     "name": "stdout",
     "output_type": "stream",
     "text": [
      "[309728, 126168, 124632, 96092, 89953, 81639]\n"
     ]
    }
   ],
   "source": [
    "#Detecting outliers in column TOTAL_CASES\n",
    "outlier_datapoints = detect_outlier(d[\"TOTAL_CASES\"])\n",
    "print(outlier_datapoints)\n",
    "\n",
    "#below displays the outliers in column \"TOTAL_CASES\""
   ]
  },
  {
   "cell_type": "code",
   "execution_count": 15,
   "metadata": {},
   "outputs": [
    {
     "data": {
      "text/plain": [
       "True"
      ]
     },
     "execution_count": 15,
     "metadata": {},
     "output_type": "execute_result"
    }
   ],
   "source": [
    "#Checking if there are any missing values\n",
    "d.isnull().values.any()"
   ]
  },
  {
   "cell_type": "code",
   "execution_count": 16,
   "metadata": {},
   "outputs": [
    {
     "data": {
      "text/html": [
       "<div>\n",
       "<style scoped>\n",
       "    .dataframe tbody tr th:only-of-type {\n",
       "        vertical-align: middle;\n",
       "    }\n",
       "\n",
       "    .dataframe tbody tr th {\n",
       "        vertical-align: top;\n",
       "    }\n",
       "\n",
       "    .dataframe thead th {\n",
       "        text-align: right;\n",
       "    }\n",
       "</style>\n",
       "<table border=\"1\" class=\"dataframe\">\n",
       "  <thead>\n",
       "    <tr style=\"text-align: right;\">\n",
       "      <th></th>\n",
       "      <th>ï»¿COUNTRY</th>\n",
       "      <th>TOTAL_CASES</th>\n",
       "      <th>TOTAL_DEATHS</th>\n",
       "      <th>TOTAL_RECOVERED</th>\n",
       "      <th>ACTIVE_CASES</th>\n",
       "      <th>SERIOUS_CRITICAL</th>\n",
       "      <th>NEW_CASES</th>\n",
       "      <th>NEW_DEATHS</th>\n",
       "      <th>DAILY_GROWTH_FACTOR</th>\n",
       "      <th>DAILY_GROWTH_FACTOR_RATIO</th>\n",
       "      <th>TOTAL_TESTS</th>\n",
       "      <th>TOTAL_CASES_PER_MILLION</th>\n",
       "      <th>DEATHS_PER_MILLION</th>\n",
       "      <th>TESTS_PER_MILLION</th>\n",
       "      <th>FIRST_CASE</th>\n",
       "    </tr>\n",
       "  </thead>\n",
       "  <tbody>\n",
       "    <tr>\n",
       "      <th>0</th>\n",
       "      <td>USA</td>\n",
       "      <td>309728</td>\n",
       "      <td>8441.0</td>\n",
       "      <td>14741.0</td>\n",
       "      <td>286546</td>\n",
       "      <td>8206.0</td>\n",
       "      <td>33907.0</td>\n",
       "      <td>NaN</td>\n",
       "      <td>1,029</td>\n",
       "      <td>NaN</td>\n",
       "      <td>1626287.0</td>\n",
       "      <td>NaN</td>\n",
       "      <td>NaN</td>\n",
       "      <td>NaN</td>\n",
       "      <td>NaN</td>\n",
       "    </tr>\n",
       "    <tr>\n",
       "      <th>1</th>\n",
       "      <td>Spain</td>\n",
       "      <td>126168</td>\n",
       "      <td>11947.0</td>\n",
       "      <td>34219.0</td>\n",
       "      <td>80002</td>\n",
       "      <td>6532.0</td>\n",
       "      <td>6969.0</td>\n",
       "      <td>NaN</td>\n",
       "      <td>0,976</td>\n",
       "      <td>NaN</td>\n",
       "      <td>355000.0</td>\n",
       "      <td>NaN</td>\n",
       "      <td>NaN</td>\n",
       "      <td>NaN</td>\n",
       "      <td>NaN</td>\n",
       "    </tr>\n",
       "    <tr>\n",
       "      <th>2</th>\n",
       "      <td>Italy</td>\n",
       "      <td>124632</td>\n",
       "      <td>15362.0</td>\n",
       "      <td>20996.0</td>\n",
       "      <td>88274</td>\n",
       "      <td>3994.0</td>\n",
       "      <td>4805.0</td>\n",
       "      <td>NaN</td>\n",
       "      <td>1,047</td>\n",
       "      <td>NaN</td>\n",
       "      <td>657224.0</td>\n",
       "      <td>NaN</td>\n",
       "      <td>NaN</td>\n",
       "      <td>NaN</td>\n",
       "      <td>NaN</td>\n",
       "    </tr>\n",
       "    <tr>\n",
       "      <th>3</th>\n",
       "      <td>Germany</td>\n",
       "      <td>96092</td>\n",
       "      <td>1444.0</td>\n",
       "      <td>26400.0</td>\n",
       "      <td>68248</td>\n",
       "      <td>3936.0</td>\n",
       "      <td>4933.0</td>\n",
       "      <td>NaN</td>\n",
       "      <td>0,775</td>\n",
       "      <td>NaN</td>\n",
       "      <td>918460.0</td>\n",
       "      <td>NaN</td>\n",
       "      <td>NaN</td>\n",
       "      <td>NaN</td>\n",
       "      <td>NaN</td>\n",
       "    </tr>\n",
       "    <tr>\n",
       "      <th>4</th>\n",
       "      <td>France</td>\n",
       "      <td>89953</td>\n",
       "      <td>7560.0</td>\n",
       "      <td>15438.0</td>\n",
       "      <td>66955</td>\n",
       "      <td>6838.0</td>\n",
       "      <td>25615.0</td>\n",
       "      <td>NaN</td>\n",
       "      <td>4,894</td>\n",
       "      <td>NaN</td>\n",
       "      <td>224254.0</td>\n",
       "      <td>NaN</td>\n",
       "      <td>NaN</td>\n",
       "      <td>NaN</td>\n",
       "      <td>NaN</td>\n",
       "    </tr>\n",
       "  </tbody>\n",
       "</table>\n",
       "</div>"
      ],
      "text/plain": [
       "  ï»¿COUNTRY  TOTAL_CASES  TOTAL_DEATHS  TOTAL_RECOVERED  ACTIVE_CASES  \\\n",
       "0        USA       309728        8441.0          14741.0        286546   \n",
       "1      Spain       126168       11947.0          34219.0         80002   \n",
       "2      Italy       124632       15362.0          20996.0         88274   \n",
       "3    Germany        96092        1444.0          26400.0         68248   \n",
       "4     France        89953        7560.0          15438.0         66955   \n",
       "\n",
       "   SERIOUS_CRITICAL  NEW_CASES  NEW_DEATHS DAILY_GROWTH_FACTOR  \\\n",
       "0            8206.0    33907.0         NaN               1,029   \n",
       "1            6532.0     6969.0         NaN               0,976   \n",
       "2            3994.0     4805.0         NaN               1,047   \n",
       "3            3936.0     4933.0         NaN               0,775   \n",
       "4            6838.0    25615.0         NaN               4,894   \n",
       "\n",
       "   DAILY_GROWTH_FACTOR_RATIO  TOTAL_TESTS  TOTAL_CASES_PER_MILLION  \\\n",
       "0                        NaN    1626287.0                      NaN   \n",
       "1                        NaN     355000.0                      NaN   \n",
       "2                        NaN     657224.0                      NaN   \n",
       "3                        NaN     918460.0                      NaN   \n",
       "4                        NaN     224254.0                      NaN   \n",
       "\n",
       "   DEATHS_PER_MILLION  TESTS_PER_MILLION  FIRST_CASE  \n",
       "0                 NaN                NaN         NaN  \n",
       "1                 NaN                NaN         NaN  \n",
       "2                 NaN                NaN         NaN  \n",
       "3                 NaN                NaN         NaN  \n",
       "4                 NaN                NaN         NaN  "
      ]
     },
     "execution_count": 16,
     "metadata": {},
     "output_type": "execute_result"
    }
   ],
   "source": [
    "#Filling missing values with the mean values\n",
    "d.fillna(d.mean(), inplace=True)\n",
    "d.head()"
   ]
  },
  {
   "cell_type": "code",
   "execution_count": 17,
   "metadata": {},
   "outputs": [
    {
     "data": {
      "text/plain": [
       "<matplotlib.axes._subplots.AxesSubplot at 0x1a18ce3e48>"
      ]
     },
     "execution_count": 17,
     "metadata": {},
     "output_type": "execute_result"
    },
    {
     "data": {
      "image/png": "[encoded data removed]",
      "text/plain": [
       "<Figure size 432x288 with 1 Axes>"
      ]
     },
     "metadata": {
      "needs_background": "light"
     },
     "output_type": "display_data"
    }
   ],
   "source": [
    "#Detecting outliers with boxplot\n",
    "import seaborn as sns\n",
    "sns.boxplot(x=d['TOTAL_CASES'])"
   ]
  },
  {
   "cell_type": "code",
   "execution_count": 18,
   "metadata": {},
   "outputs": [
    {
     "data": {
      "image/png": "[encoded data removed]",
      "text/plain": [
       "<Figure size 432x288 with 1 Axes>"
      ]
     },
     "metadata": {
      "needs_background": "light"
     },
     "output_type": "display_data"
    }
   ],
   "source": [
    "#K-means clustering\n",
    "plt.scatter(d['TOTAL_DEATHS'], d['TESTS_PER_MILLION'], s = 50, c = 'y') \n",
    "plt.show()"
   ]
  },
  {
   "cell_type": "code",
   "execution_count": 19,
   "metadata": {},
   "outputs": [],
   "source": [
    "#Question 1: there is no relation between total deaths and tests per million since tests per million column is null"
   ]
  },
  {
   "cell_type": "code",
   "execution_count": 20,
   "metadata": {
    "scrolled": true
   },
   "outputs": [
    {
     "data": {
      "image/png": "[encoded data removed]",
      "text/plain": [
       "<Figure size 432x288 with 1 Axes>"
      ]
     },
     "metadata": {
      "needs_background": "light"
     },
     "output_type": "display_data"
    }
   ],
   "source": [
    "#K-means clustering\n",
    "plt.scatter(d['TOTAL_DEATHS'], d['TOTAL_CASES'], s = 50, c = 'y') \n",
    "plt.show()"
   ]
  },
  {
   "cell_type": "code",
   "execution_count": 21,
   "metadata": {},
   "outputs": [],
   "source": [
    "#Question 2: this means lower total number of cases will lower the total deaths"
   ]
  },
  {
   "cell_type": "code",
   "execution_count": 22,
   "metadata": {},
   "outputs": [
    {
     "data": {
      "text/html": [
       "<div>\n",
       "<style scoped>\n",
       "    .dataframe tbody tr th:only-of-type {\n",
       "        vertical-align: middle;\n",
       "    }\n",
       "\n",
       "    .dataframe tbody tr th {\n",
       "        vertical-align: top;\n",
       "    }\n",
       "\n",
       "    .dataframe thead th {\n",
       "        text-align: right;\n",
       "    }\n",
       "</style>\n",
       "<table border=\"1\" class=\"dataframe\">\n",
       "  <thead>\n",
       "    <tr style=\"text-align: right;\">\n",
       "      <th></th>\n",
       "      <th>ï»¿COUNTRY</th>\n",
       "      <th>TOTAL_CASES</th>\n",
       "      <th>TOTAL_DEATHS</th>\n",
       "      <th>TOTAL_RECOVERED</th>\n",
       "      <th>ACTIVE_CASES</th>\n",
       "      <th>SERIOUS_CRITICAL</th>\n",
       "      <th>NEW_CASES</th>\n",
       "      <th>NEW_DEATHS</th>\n",
       "      <th>DAILY_GROWTH_FACTOR</th>\n",
       "      <th>DAILY_GROWTH_FACTOR_RATIO</th>\n",
       "      <th>TOTAL_TESTS</th>\n",
       "      <th>TOTAL_CASES_PER_MILLION</th>\n",
       "      <th>DEATHS_PER_MILLION</th>\n",
       "      <th>TESTS_PER_MILLION</th>\n",
       "      <th>FIRST_CASE</th>\n",
       "    </tr>\n",
       "  </thead>\n",
       "  <tbody>\n",
       "    <tr>\n",
       "      <th>0</th>\n",
       "      <td>USA</td>\n",
       "      <td>309728</td>\n",
       "      <td>8441.0</td>\n",
       "      <td>14741.0</td>\n",
       "      <td>286546</td>\n",
       "      <td>8206.0</td>\n",
       "      <td>33907.0</td>\n",
       "      <td>NaN</td>\n",
       "      <td>1,029</td>\n",
       "      <td>NaN</td>\n",
       "      <td>1626287.0</td>\n",
       "      <td>NaN</td>\n",
       "      <td>NaN</td>\n",
       "      <td>NaN</td>\n",
       "      <td>NaN</td>\n",
       "    </tr>\n",
       "    <tr>\n",
       "      <th>1</th>\n",
       "      <td>Spain</td>\n",
       "      <td>126168</td>\n",
       "      <td>11947.0</td>\n",
       "      <td>34219.0</td>\n",
       "      <td>80002</td>\n",
       "      <td>6532.0</td>\n",
       "      <td>6969.0</td>\n",
       "      <td>NaN</td>\n",
       "      <td>0,976</td>\n",
       "      <td>NaN</td>\n",
       "      <td>355000.0</td>\n",
       "      <td>NaN</td>\n",
       "      <td>NaN</td>\n",
       "      <td>NaN</td>\n",
       "      <td>NaN</td>\n",
       "    </tr>\n",
       "    <tr>\n",
       "      <th>2</th>\n",
       "      <td>Italy</td>\n",
       "      <td>124632</td>\n",
       "      <td>15362.0</td>\n",
       "      <td>20996.0</td>\n",
       "      <td>88274</td>\n",
       "      <td>3994.0</td>\n",
       "      <td>4805.0</td>\n",
       "      <td>NaN</td>\n",
       "      <td>1,047</td>\n",
       "      <td>NaN</td>\n",
       "      <td>657224.0</td>\n",
       "      <td>NaN</td>\n",
       "      <td>NaN</td>\n",
       "      <td>NaN</td>\n",
       "      <td>NaN</td>\n",
       "    </tr>\n",
       "    <tr>\n",
       "      <th>3</th>\n",
       "      <td>Germany</td>\n",
       "      <td>96092</td>\n",
       "      <td>1444.0</td>\n",
       "      <td>26400.0</td>\n",
       "      <td>68248</td>\n",
       "      <td>3936.0</td>\n",
       "      <td>4933.0</td>\n",
       "      <td>NaN</td>\n",
       "      <td>0,775</td>\n",
       "      <td>NaN</td>\n",
       "      <td>918460.0</td>\n",
       "      <td>NaN</td>\n",
       "      <td>NaN</td>\n",
       "      <td>NaN</td>\n",
       "      <td>NaN</td>\n",
       "    </tr>\n",
       "    <tr>\n",
       "      <th>4</th>\n",
       "      <td>France</td>\n",
       "      <td>89953</td>\n",
       "      <td>7560.0</td>\n",
       "      <td>15438.0</td>\n",
       "      <td>66955</td>\n",
       "      <td>6838.0</td>\n",
       "      <td>25615.0</td>\n",
       "      <td>NaN</td>\n",
       "      <td>4,894</td>\n",
       "      <td>NaN</td>\n",
       "      <td>224254.0</td>\n",
       "      <td>NaN</td>\n",
       "      <td>NaN</td>\n",
       "      <td>NaN</td>\n",
       "      <td>NaN</td>\n",
       "    </tr>\n",
       "  </tbody>\n",
       "</table>\n",
       "</div>"
      ],
      "text/plain": [
       "  ï»¿COUNTRY  TOTAL_CASES  TOTAL_DEATHS  TOTAL_RECOVERED  ACTIVE_CASES  \\\n",
       "0        USA       309728        8441.0          14741.0        286546   \n",
       "1      Spain       126168       11947.0          34219.0         80002   \n",
       "2      Italy       124632       15362.0          20996.0         88274   \n",
       "3    Germany        96092        1444.0          26400.0         68248   \n",
       "4     France        89953        7560.0          15438.0         66955   \n",
       "\n",
       "   SERIOUS_CRITICAL  NEW_CASES  NEW_DEATHS DAILY_GROWTH_FACTOR  \\\n",
       "0            8206.0    33907.0         NaN               1,029   \n",
       "1            6532.0     6969.0         NaN               0,976   \n",
       "2            3994.0     4805.0         NaN               1,047   \n",
       "3            3936.0     4933.0         NaN               0,775   \n",
       "4            6838.0    25615.0         NaN               4,894   \n",
       "\n",
       "   DAILY_GROWTH_FACTOR_RATIO  TOTAL_TESTS  TOTAL_CASES_PER_MILLION  \\\n",
       "0                        NaN    1626287.0                      NaN   \n",
       "1                        NaN     355000.0                      NaN   \n",
       "2                        NaN     657224.0                      NaN   \n",
       "3                        NaN     918460.0                      NaN   \n",
       "4                        NaN     224254.0                      NaN   \n",
       "\n",
       "   DEATHS_PER_MILLION  TESTS_PER_MILLION  FIRST_CASE  \n",
       "0                 NaN                NaN         NaN  \n",
       "1                 NaN                NaN         NaN  \n",
       "2                 NaN                NaN         NaN  \n",
       "3                 NaN                NaN         NaN  \n",
       "4                 NaN                NaN         NaN  "
      ]
     },
     "execution_count": 22,
     "metadata": {},
     "output_type": "execute_result"
    }
   ],
   "source": [
    "d.head()"
   ]
  },
  {
   "cell_type": "code",
   "execution_count": 23,
   "metadata": {},
   "outputs": [],
   "source": [
    "d =d.drop(['ï»¿COUNTRY','DAILY_GROWTH_FACTOR','DAILY_GROWTH_FACTOR_RATIO','NEW_DEATHS','TOTAL_CASES_PER_MILLION','DEATHS_PER_MILLION', 'TESTS_PER_MILLION','FIRST_CASE'], axis=1)\n",
    "\n",
    "#dropping all null columns"
   ]
  },
  {
   "cell_type": "code",
   "execution_count": 24,
   "metadata": {},
   "outputs": [
    {
     "data": {
      "text/html": [
       "<div>\n",
       "<style scoped>\n",
       "    .dataframe tbody tr th:only-of-type {\n",
       "        vertical-align: middle;\n",
       "    }\n",
       "\n",
       "    .dataframe tbody tr th {\n",
       "        vertical-align: top;\n",
       "    }\n",
       "\n",
       "    .dataframe thead th {\n",
       "        text-align: right;\n",
       "    }\n",
       "</style>\n",
       "<table border=\"1\" class=\"dataframe\">\n",
       "  <thead>\n",
       "    <tr style=\"text-align: right;\">\n",
       "      <th></th>\n",
       "      <th>TOTAL_CASES</th>\n",
       "      <th>TOTAL_DEATHS</th>\n",
       "      <th>TOTAL_RECOVERED</th>\n",
       "      <th>ACTIVE_CASES</th>\n",
       "      <th>SERIOUS_CRITICAL</th>\n",
       "      <th>NEW_CASES</th>\n",
       "      <th>TOTAL_TESTS</th>\n",
       "    </tr>\n",
       "  </thead>\n",
       "  <tbody>\n",
       "    <tr>\n",
       "      <th>0</th>\n",
       "      <td>309728</td>\n",
       "      <td>8441.0</td>\n",
       "      <td>14741.0</td>\n",
       "      <td>286546</td>\n",
       "      <td>8206.0</td>\n",
       "      <td>33907.0</td>\n",
       "      <td>1626287.0</td>\n",
       "    </tr>\n",
       "    <tr>\n",
       "      <th>1</th>\n",
       "      <td>126168</td>\n",
       "      <td>11947.0</td>\n",
       "      <td>34219.0</td>\n",
       "      <td>80002</td>\n",
       "      <td>6532.0</td>\n",
       "      <td>6969.0</td>\n",
       "      <td>355000.0</td>\n",
       "    </tr>\n",
       "    <tr>\n",
       "      <th>2</th>\n",
       "      <td>124632</td>\n",
       "      <td>15362.0</td>\n",
       "      <td>20996.0</td>\n",
       "      <td>88274</td>\n",
       "      <td>3994.0</td>\n",
       "      <td>4805.0</td>\n",
       "      <td>657224.0</td>\n",
       "    </tr>\n",
       "    <tr>\n",
       "      <th>3</th>\n",
       "      <td>96092</td>\n",
       "      <td>1444.0</td>\n",
       "      <td>26400.0</td>\n",
       "      <td>68248</td>\n",
       "      <td>3936.0</td>\n",
       "      <td>4933.0</td>\n",
       "      <td>918460.0</td>\n",
       "    </tr>\n",
       "    <tr>\n",
       "      <th>4</th>\n",
       "      <td>89953</td>\n",
       "      <td>7560.0</td>\n",
       "      <td>15438.0</td>\n",
       "      <td>66955</td>\n",
       "      <td>6838.0</td>\n",
       "      <td>25615.0</td>\n",
       "      <td>224254.0</td>\n",
       "    </tr>\n",
       "  </tbody>\n",
       "</table>\n",
       "</div>"
      ],
      "text/plain": [
       "   TOTAL_CASES  TOTAL_DEATHS  TOTAL_RECOVERED  ACTIVE_CASES  SERIOUS_CRITICAL  \\\n",
       "0       309728        8441.0          14741.0        286546            8206.0   \n",
       "1       126168       11947.0          34219.0         80002            6532.0   \n",
       "2       124632       15362.0          20996.0         88274            3994.0   \n",
       "3        96092        1444.0          26400.0         68248            3936.0   \n",
       "4        89953        7560.0          15438.0         66955            6838.0   \n",
       "\n",
       "   NEW_CASES  TOTAL_TESTS  \n",
       "0    33907.0    1626287.0  \n",
       "1     6969.0     355000.0  \n",
       "2     4805.0     657224.0  \n",
       "3     4933.0     918460.0  \n",
       "4    25615.0     224254.0  "
      ]
     },
     "execution_count": 24,
     "metadata": {},
     "output_type": "execute_result"
    }
   ],
   "source": [
    "d.head()"
   ]
  },
  {
   "cell_type": "code",
   "execution_count": 25,
   "metadata": {},
   "outputs": [
    {
     "name": "stderr",
     "output_type": "stream",
     "text": [
      "/Users/selinkucukoglu/anaconda3/lib/python3.7/site-packages/sklearn/preprocessing/data.py:323: DataConversionWarning: Data with input dtype int64, float64 were all converted to float64 by MinMaxScaler.\n",
      "  return self.partial_fit(X, y)\n"
     ]
    }
   ],
   "source": [
    "from sklearn.preprocessing import MinMaxScaler\n",
    "mms = MinMaxScaler()\n",
    "mms.fit(d)\n",
    "data_transformed = mms.transform(d)"
   ]
  },
  {
   "cell_type": "code",
   "execution_count": 26,
   "metadata": {},
   "outputs": [
    {
     "data": {
      "text/plain": [
       "array([[3.27089163e+03, 3.17936225e+02, 1.22290454e+03, 2.17200000e+03,\n",
       "        2.89344449e+02, 1.56000527e+03, 4.52104357e+04],\n",
       "       [1.33795750e+05, 6.32250000e+03, 1.56175000e+04, 1.11855750e+05,\n",
       "        4.03600000e+03, 1.10567500e+04, 9.60394250e+05]])"
      ]
     },
     "execution_count": 26,
     "metadata": {},
     "output_type": "execute_result"
    }
   ],
   "source": [
    "#K means with 2 clusters\n",
    "from sklearn.cluster import KMeans\n",
    "kmeans = KMeans(n_clusters=2)\n",
    "kmeans.fit(d)\n",
    "kmeans.cluster_centers_"
   ]
  },
  {
   "cell_type": "code",
   "execution_count": 27,
   "metadata": {},
   "outputs": [
    {
     "data": {
      "image/png": "[encoded data removed]",
      "text/plain": [
       "<Figure size 432x288 with 1 Axes>"
      ]
     },
     "metadata": {
      "needs_background": "light"
     },
     "output_type": "display_data"
    }
   ],
   "source": [
    "plt.scatter(d['TOTAL_CASES'], d['TOTAL_DEATHS'], c = 'b')\n",
    "plt.scatter(3.27089163e+03 , 3.46871400e+05, s=200, c='g', marker='s')\n",
    "plt.scatter(4.40273432e+02, 1.79902000e+04, s=200, c='r', marker='s')\n",
    "plt.show()"
   ]
  },
  {
   "cell_type": "code",
   "execution_count": 28,
   "metadata": {},
   "outputs": [
    {
     "data": {
      "text/plain": [
       "count      207.000000\n",
       "mean       433.966443\n",
       "std       1601.850866\n",
       "min          1.000000\n",
       "25%          4.000000\n",
       "50%         32.000000\n",
       "75%        433.966443\n",
       "max      15362.000000\n",
       "Name: TOTAL_DEATHS, dtype: float64"
      ]
     },
     "execution_count": 28,
     "metadata": {},
     "output_type": "execute_result"
    }
   ],
   "source": [
    "#Checking for basic statistic for the column TOTAL_DEATHS\n",
    "d[\"TOTAL_DEATHS\"].describe()"
   ]
  },
  {
   "cell_type": "code",
   "execution_count": 29,
   "metadata": {},
   "outputs": [
    {
     "data": {
      "text/plain": [
       "<matplotlib.axes._subplots.AxesSubplot at 0x1a193f8dd8>"
      ]
     },
     "execution_count": 29,
     "metadata": {},
     "output_type": "execute_result"
    },
    {
     "data": {
      "image/png": "[encoded data removed]",
      "text/plain": [
       "<Figure size 432x288 with 1 Axes>"
      ]
     },
     "metadata": {
      "needs_background": "light"
     },
     "output_type": "display_data"
    }
   ],
   "source": [
    "sns.boxplot(x=d['TOTAL_DEATHS'])"
   ]
  },
  {
   "cell_type": "code",
   "execution_count": 30,
   "metadata": {},
   "outputs": [],
   "source": [
    "#Question 3: average number of deaths is 433."
   ]
  },
  {
   "cell_type": "code",
   "execution_count": 31,
   "metadata": {},
   "outputs": [
    {
     "data": {
      "text/plain": [
       "<matplotlib.axes._subplots.AxesSubplot at 0x1a194d6ba8>"
      ]
     },
     "execution_count": 31,
     "metadata": {},
     "output_type": "execute_result"
    },
    {
     "data": {
      "image/png": "[encoded data removed]",
      "text/plain": [
       "<Figure size 432x288 with 1 Axes>"
      ]
     },
     "metadata": {
      "needs_background": "light"
     },
     "output_type": "display_data"
    }
   ],
   "source": [
    "d.plot.scatter(x='TOTAL_CASES', y='TOTAL_TESTS', title='Correlation')"
   ]
  },
  {
   "cell_type": "code",
   "execution_count": 32,
   "metadata": {},
   "outputs": [],
   "source": [
    "#Question 4: positive relationship between total number of cases and total number of tests"
   ]
  },
  {
   "cell_type": "code",
   "execution_count": null,
   "metadata": {},
   "outputs": [],
   "source": []
  }
 ],
 "metadata": {
  "kernelspec": {
   "display_name": "Python 3",
   "language": "python",
   "name": "python3"
  },
  "language_info": {
   "codemirror_mode": {
    "name": "ipython",
    "version": 3
   },
   "file_extension": ".py",
   "mimetype": "text/x-python",
   "name": "python",
   "nbconvert_exporter": "python",
   "pygments_lexer": "ipython3",
   "version": "3.7.1"
  }
 },
 "nbformat": 4,
 "nbformat_minor": 2
}
